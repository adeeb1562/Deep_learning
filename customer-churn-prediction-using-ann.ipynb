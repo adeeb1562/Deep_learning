{
 "cells": [
  {
   "cell_type": "code",
   "execution_count": 1,
   "id": "1cf3d241",
   "metadata": {
    "_cell_guid": "b1076dfc-b9ad-4769-8c92-a6c4dae69d19",
    "_uuid": "8f2839f25d086af736a60e9eeb907d3b93b6e0e5",
    "execution": {
     "iopub.execute_input": "2024-03-31T21:39:00.001653Z",
     "iopub.status.busy": "2024-03-31T21:39:00.001008Z",
     "iopub.status.idle": "2024-03-31T21:39:00.011930Z",
     "shell.execute_reply": "2024-03-31T21:39:00.011314Z",
     "shell.execute_reply.started": "2024-03-31T21:12:01.954375Z"
    },
    "papermill": {
     "duration": 0.062235,
     "end_time": "2024-03-31T21:39:00.012080",
     "exception": false,
     "start_time": "2024-03-31T21:38:59.949845",
     "status": "completed"
    },
    "tags": []
   },
   "outputs": [
    {
     "name": "stdout",
     "output_type": "stream",
     "text": [
      "/kaggle/input/credit-card-customer-churn-prediction/Churn_Modelling.csv\n"
     ]
    }
   ],
   "source": [
    "# This Python 3 environment comes with many helpful analytics libraries installed\n",
    "# It is defined by the kaggle/python Docker image: https://github.com/kaggle/docker-python\n",
    "# For example, here's several helpful packages to load\n",
    "\n",
    "import numpy as np # linear algebra\n",
    "import pandas as pd # data processing, CSV file I/O (e.g. pd.read_csv)\n",
    "\n",
    "# Input data files are available in the read-only \"../input/\" directory\n",
    "# For example, running this (by clicking run or pressing Shift+Enter) will list all files under the input directory\n",
    "\n",
    "import os\n",
    "for dirname, _, filenames in os.walk('/kaggle/input'):\n",
    "    for filename in filenames:\n",
    "        print(os.path.join(dirname, filename))\n",
    "\n",
    "# You can write up to 20GB to the current directory (/kaggle/working/) that gets preserved as output when you create a version using \"Save & Run All\" \n",
    "# You can also write temporary files to /kaggle/temp/, but they won't be saved outside of the current session"
   ]
  },
  {
   "cell_type": "code",
   "execution_count": 2,
   "id": "f3d00d7d",
   "metadata": {
    "execution": {
     "iopub.execute_input": "2024-03-31T21:39:00.094138Z",
     "iopub.status.busy": "2024-03-31T21:39:00.093505Z",
     "iopub.status.idle": "2024-03-31T21:39:00.131286Z",
     "shell.execute_reply": "2024-03-31T21:39:00.131787Z",
     "shell.execute_reply.started": "2024-03-31T21:12:01.972761Z"
    },
    "papermill": {
     "duration": 0.079909,
     "end_time": "2024-03-31T21:39:00.131931",
     "exception": false,
     "start_time": "2024-03-31T21:39:00.052022",
     "status": "completed"
    },
    "tags": []
   },
   "outputs": [],
   "source": [
    "df = pd.read_csv('/kaggle/input/credit-card-customer-churn-prediction/Churn_Modelling.csv')"
   ]
  },
  {
   "cell_type": "code",
   "execution_count": 3,
   "id": "f4d5f414",
   "metadata": {
    "execution": {
     "iopub.execute_input": "2024-03-31T21:39:00.215941Z",
     "iopub.status.busy": "2024-03-31T21:39:00.215284Z",
     "iopub.status.idle": "2024-03-31T21:39:00.231508Z",
     "shell.execute_reply": "2024-03-31T21:39:00.231003Z",
     "shell.execute_reply.started": "2024-03-31T21:12:02.029637Z"
    },
    "papermill": {
     "duration": 0.061206,
     "end_time": "2024-03-31T21:39:00.231663",
     "exception": false,
     "start_time": "2024-03-31T21:39:00.170457",
     "status": "completed"
    },
    "tags": []
   },
   "outputs": [
    {
     "data": {
      "text/html": [
       "<div>\n",
       "<style scoped>\n",
       "    .dataframe tbody tr th:only-of-type {\n",
       "        vertical-align: middle;\n",
       "    }\n",
       "\n",
       "    .dataframe tbody tr th {\n",
       "        vertical-align: top;\n",
       "    }\n",
       "\n",
       "    .dataframe thead th {\n",
       "        text-align: right;\n",
       "    }\n",
       "</style>\n",
       "<table border=\"1\" class=\"dataframe\">\n",
       "  <thead>\n",
       "    <tr style=\"text-align: right;\">\n",
       "      <th></th>\n",
       "      <th>RowNumber</th>\n",
       "      <th>CustomerId</th>\n",
       "      <th>Surname</th>\n",
       "      <th>CreditScore</th>\n",
       "      <th>Geography</th>\n",
       "      <th>Gender</th>\n",
       "      <th>Age</th>\n",
       "      <th>Tenure</th>\n",
       "      <th>Balance</th>\n",
       "      <th>NumOfProducts</th>\n",
       "      <th>HasCrCard</th>\n",
       "      <th>IsActiveMember</th>\n",
       "      <th>EstimatedSalary</th>\n",
       "      <th>Exited</th>\n",
       "    </tr>\n",
       "  </thead>\n",
       "  <tbody>\n",
       "    <tr>\n",
       "      <th>0</th>\n",
       "      <td>1</td>\n",
       "      <td>15634602</td>\n",
       "      <td>Hargrave</td>\n",
       "      <td>619</td>\n",
       "      <td>France</td>\n",
       "      <td>Female</td>\n",
       "      <td>42</td>\n",
       "      <td>2</td>\n",
       "      <td>0.00</td>\n",
       "      <td>1</td>\n",
       "      <td>1</td>\n",
       "      <td>1</td>\n",
       "      <td>101348.88</td>\n",
       "      <td>1</td>\n",
       "    </tr>\n",
       "    <tr>\n",
       "      <th>1</th>\n",
       "      <td>2</td>\n",
       "      <td>15647311</td>\n",
       "      <td>Hill</td>\n",
       "      <td>608</td>\n",
       "      <td>Spain</td>\n",
       "      <td>Female</td>\n",
       "      <td>41</td>\n",
       "      <td>1</td>\n",
       "      <td>83807.86</td>\n",
       "      <td>1</td>\n",
       "      <td>0</td>\n",
       "      <td>1</td>\n",
       "      <td>112542.58</td>\n",
       "      <td>0</td>\n",
       "    </tr>\n",
       "    <tr>\n",
       "      <th>2</th>\n",
       "      <td>3</td>\n",
       "      <td>15619304</td>\n",
       "      <td>Onio</td>\n",
       "      <td>502</td>\n",
       "      <td>France</td>\n",
       "      <td>Female</td>\n",
       "      <td>42</td>\n",
       "      <td>8</td>\n",
       "      <td>159660.80</td>\n",
       "      <td>3</td>\n",
       "      <td>1</td>\n",
       "      <td>0</td>\n",
       "      <td>113931.57</td>\n",
       "      <td>1</td>\n",
       "    </tr>\n",
       "    <tr>\n",
       "      <th>3</th>\n",
       "      <td>4</td>\n",
       "      <td>15701354</td>\n",
       "      <td>Boni</td>\n",
       "      <td>699</td>\n",
       "      <td>France</td>\n",
       "      <td>Female</td>\n",
       "      <td>39</td>\n",
       "      <td>1</td>\n",
       "      <td>0.00</td>\n",
       "      <td>2</td>\n",
       "      <td>0</td>\n",
       "      <td>0</td>\n",
       "      <td>93826.63</td>\n",
       "      <td>0</td>\n",
       "    </tr>\n",
       "    <tr>\n",
       "      <th>4</th>\n",
       "      <td>5</td>\n",
       "      <td>15737888</td>\n",
       "      <td>Mitchell</td>\n",
       "      <td>850</td>\n",
       "      <td>Spain</td>\n",
       "      <td>Female</td>\n",
       "      <td>43</td>\n",
       "      <td>2</td>\n",
       "      <td>125510.82</td>\n",
       "      <td>1</td>\n",
       "      <td>1</td>\n",
       "      <td>1</td>\n",
       "      <td>79084.10</td>\n",
       "      <td>0</td>\n",
       "    </tr>\n",
       "  </tbody>\n",
       "</table>\n",
       "</div>"
      ],
      "text/plain": [
       "   RowNumber  CustomerId   Surname  CreditScore Geography  Gender  Age  \\\n",
       "0          1    15634602  Hargrave          619    France  Female   42   \n",
       "1          2    15647311      Hill          608     Spain  Female   41   \n",
       "2          3    15619304      Onio          502    France  Female   42   \n",
       "3          4    15701354      Boni          699    France  Female   39   \n",
       "4          5    15737888  Mitchell          850     Spain  Female   43   \n",
       "\n",
       "   Tenure    Balance  NumOfProducts  HasCrCard  IsActiveMember  \\\n",
       "0       2       0.00              1          1               1   \n",
       "1       1   83807.86              1          0               1   \n",
       "2       8  159660.80              3          1               0   \n",
       "3       1       0.00              2          0               0   \n",
       "4       2  125510.82              1          1               1   \n",
       "\n",
       "   EstimatedSalary  Exited  \n",
       "0        101348.88       1  \n",
       "1        112542.58       0  \n",
       "2        113931.57       1  \n",
       "3         93826.63       0  \n",
       "4         79084.10       0  "
      ]
     },
     "execution_count": 3,
     "metadata": {},
     "output_type": "execute_result"
    }
   ],
   "source": [
    "df.head()"
   ]
  },
  {
   "cell_type": "code",
   "execution_count": 4,
   "id": "02c5efe7",
   "metadata": {
    "execution": {
     "iopub.execute_input": "2024-03-31T21:39:00.317879Z",
     "iopub.status.busy": "2024-03-31T21:39:00.317098Z",
     "iopub.status.idle": "2024-03-31T21:39:00.320789Z",
     "shell.execute_reply": "2024-03-31T21:39:00.320150Z",
     "shell.execute_reply.started": "2024-03-31T21:12:02.062958Z"
    },
    "papermill": {
     "duration": 0.04679,
     "end_time": "2024-03-31T21:39:00.320926",
     "exception": false,
     "start_time": "2024-03-31T21:39:00.274136",
     "status": "completed"
    },
    "tags": []
   },
   "outputs": [
    {
     "data": {
      "text/plain": [
       "(10000, 14)"
      ]
     },
     "execution_count": 4,
     "metadata": {},
     "output_type": "execute_result"
    }
   ],
   "source": [
    "df.shape"
   ]
  },
  {
   "cell_type": "code",
   "execution_count": 5,
   "id": "7ff7114c",
   "metadata": {
    "execution": {
     "iopub.execute_input": "2024-03-31T21:39:00.409115Z",
     "iopub.status.busy": "2024-03-31T21:39:00.405129Z",
     "iopub.status.idle": "2024-03-31T21:39:00.425870Z",
     "shell.execute_reply": "2024-03-31T21:39:00.426353Z",
     "shell.execute_reply.started": "2024-03-31T21:12:02.073328Z"
    },
    "papermill": {
     "duration": 0.065146,
     "end_time": "2024-03-31T21:39:00.426488",
     "exception": false,
     "start_time": "2024-03-31T21:39:00.361342",
     "status": "completed"
    },
    "tags": []
   },
   "outputs": [
    {
     "name": "stdout",
     "output_type": "stream",
     "text": [
      "<class 'pandas.core.frame.DataFrame'>\n",
      "RangeIndex: 10000 entries, 0 to 9999\n",
      "Data columns (total 14 columns):\n",
      " #   Column           Non-Null Count  Dtype  \n",
      "---  ------           --------------  -----  \n",
      " 0   RowNumber        10000 non-null  int64  \n",
      " 1   CustomerId       10000 non-null  int64  \n",
      " 2   Surname          10000 non-null  object \n",
      " 3   CreditScore      10000 non-null  int64  \n",
      " 4   Geography        10000 non-null  object \n",
      " 5   Gender           10000 non-null  object \n",
      " 6   Age              10000 non-null  int64  \n",
      " 7   Tenure           10000 non-null  int64  \n",
      " 8   Balance          10000 non-null  float64\n",
      " 9   NumOfProducts    10000 non-null  int64  \n",
      " 10  HasCrCard        10000 non-null  int64  \n",
      " 11  IsActiveMember   10000 non-null  int64  \n",
      " 12  EstimatedSalary  10000 non-null  float64\n",
      " 13  Exited           10000 non-null  int64  \n",
      "dtypes: float64(2), int64(9), object(3)\n",
      "memory usage: 1.1+ MB\n"
     ]
    }
   ],
   "source": [
    "df.info()"
   ]
  },
  {
   "cell_type": "code",
   "execution_count": 6,
   "id": "96cf8813",
   "metadata": {
    "execution": {
     "iopub.execute_input": "2024-03-31T21:39:00.512083Z",
     "iopub.status.busy": "2024-03-31T21:39:00.511424Z",
     "iopub.status.idle": "2024-03-31T21:39:00.529134Z",
     "shell.execute_reply": "2024-03-31T21:39:00.527533Z",
     "shell.execute_reply.started": "2024-03-31T21:12:02.112404Z"
    },
    "papermill": {
     "duration": 0.061315,
     "end_time": "2024-03-31T21:39:00.529318",
     "exception": false,
     "start_time": "2024-03-31T21:39:00.468003",
     "status": "completed"
    },
    "tags": []
   },
   "outputs": [
    {
     "data": {
      "text/plain": [
       "0"
      ]
     },
     "execution_count": 6,
     "metadata": {},
     "output_type": "execute_result"
    }
   ],
   "source": [
    "df.duplicated().sum()"
   ]
  },
  {
   "cell_type": "code",
   "execution_count": 7,
   "id": "e0ecbeb8",
   "metadata": {
    "execution": {
     "iopub.execute_input": "2024-03-31T21:39:00.624849Z",
     "iopub.status.busy": "2024-03-31T21:39:00.624185Z",
     "iopub.status.idle": "2024-03-31T21:39:00.627572Z",
     "shell.execute_reply": "2024-03-31T21:39:00.627061Z",
     "shell.execute_reply.started": "2024-03-31T21:12:02.138867Z"
    },
    "papermill": {
     "duration": 0.050091,
     "end_time": "2024-03-31T21:39:00.627710",
     "exception": false,
     "start_time": "2024-03-31T21:39:00.577619",
     "status": "completed"
    },
    "tags": []
   },
   "outputs": [
    {
     "data": {
      "text/plain": [
       "0    7963\n",
       "1    2037\n",
       "Name: Exited, dtype: int64"
      ]
     },
     "execution_count": 7,
     "metadata": {},
     "output_type": "execute_result"
    }
   ],
   "source": [
    "df['Exited'].value_counts()"
   ]
  },
  {
   "cell_type": "code",
   "execution_count": 8,
   "id": "11ee6675",
   "metadata": {
    "execution": {
     "iopub.execute_input": "2024-03-31T21:39:00.717177Z",
     "iopub.status.busy": "2024-03-31T21:39:00.716394Z",
     "iopub.status.idle": "2024-03-31T21:39:00.719834Z",
     "shell.execute_reply": "2024-03-31T21:39:00.719233Z",
     "shell.execute_reply.started": "2024-03-31T21:12:02.150859Z"
    },
    "papermill": {
     "duration": 0.05119,
     "end_time": "2024-03-31T21:39:00.719963",
     "exception": false,
     "start_time": "2024-03-31T21:39:00.668773",
     "status": "completed"
    },
    "tags": []
   },
   "outputs": [
    {
     "data": {
      "text/plain": [
       "France     5014\n",
       "Germany    2509\n",
       "Spain      2477\n",
       "Name: Geography, dtype: int64"
      ]
     },
     "execution_count": 8,
     "metadata": {},
     "output_type": "execute_result"
    }
   ],
   "source": [
    "df['Geography'].value_counts()"
   ]
  },
  {
   "cell_type": "code",
   "execution_count": 9,
   "id": "3d7e5b02",
   "metadata": {
    "execution": {
     "iopub.execute_input": "2024-03-31T21:39:00.810451Z",
     "iopub.status.busy": "2024-03-31T21:39:00.809742Z",
     "iopub.status.idle": "2024-03-31T21:39:00.812596Z",
     "shell.execute_reply": "2024-03-31T21:39:00.813079Z",
     "shell.execute_reply.started": "2024-03-31T21:12:02.167371Z"
    },
    "papermill": {
     "duration": 0.051555,
     "end_time": "2024-03-31T21:39:00.813232",
     "exception": false,
     "start_time": "2024-03-31T21:39:00.761677",
     "status": "completed"
    },
    "tags": []
   },
   "outputs": [
    {
     "data": {
      "text/plain": [
       "Male      5457\n",
       "Female    4543\n",
       "Name: Gender, dtype: int64"
      ]
     },
     "execution_count": 9,
     "metadata": {},
     "output_type": "execute_result"
    }
   ],
   "source": [
    "df['Gender'].value_counts()"
   ]
  },
  {
   "cell_type": "code",
   "execution_count": 10,
   "id": "80fcf327",
   "metadata": {
    "execution": {
     "iopub.execute_input": "2024-03-31T21:39:00.904902Z",
     "iopub.status.busy": "2024-03-31T21:39:00.903863Z",
     "iopub.status.idle": "2024-03-31T21:39:00.907438Z",
     "shell.execute_reply": "2024-03-31T21:39:00.906862Z",
     "shell.execute_reply.started": "2024-03-31T21:12:02.185284Z"
    },
    "papermill": {
     "duration": 0.052056,
     "end_time": "2024-03-31T21:39:00.907581",
     "exception": false,
     "start_time": "2024-03-31T21:39:00.855525",
     "status": "completed"
    },
    "tags": []
   },
   "outputs": [],
   "source": [
    "df.drop(columns = ['RowNumber','CustomerId','Surname'],inplace=True)"
   ]
  },
  {
   "cell_type": "code",
   "execution_count": 11,
   "id": "21656a1b",
   "metadata": {
    "execution": {
     "iopub.execute_input": "2024-03-31T21:39:00.998871Z",
     "iopub.status.busy": "2024-03-31T21:39:00.998210Z",
     "iopub.status.idle": "2024-03-31T21:39:01.006019Z",
     "shell.execute_reply": "2024-03-31T21:39:01.005397Z",
     "shell.execute_reply.started": "2024-03-31T21:12:02.196855Z"
    },
    "papermill": {
     "duration": 0.056732,
     "end_time": "2024-03-31T21:39:01.006143",
     "exception": false,
     "start_time": "2024-03-31T21:39:00.949411",
     "status": "completed"
    },
    "tags": []
   },
   "outputs": [],
   "source": [
    "df = pd.get_dummies(df,columns=['Geography','Gender'],drop_first=True)"
   ]
  },
  {
   "cell_type": "code",
   "execution_count": 12,
   "id": "1cd540f9",
   "metadata": {
    "execution": {
     "iopub.execute_input": "2024-03-31T21:39:01.120418Z",
     "iopub.status.busy": "2024-03-31T21:39:01.119676Z",
     "iopub.status.idle": "2024-03-31T21:39:01.122769Z",
     "shell.execute_reply": "2024-03-31T21:39:01.123309Z",
     "shell.execute_reply.started": "2024-03-31T21:12:02.218794Z"
    },
    "papermill": {
     "duration": 0.067688,
     "end_time": "2024-03-31T21:39:01.123482",
     "exception": false,
     "start_time": "2024-03-31T21:39:01.055794",
     "status": "completed"
    },
    "tags": []
   },
   "outputs": [
    {
     "data": {
      "text/html": [
       "<div>\n",
       "<style scoped>\n",
       "    .dataframe tbody tr th:only-of-type {\n",
       "        vertical-align: middle;\n",
       "    }\n",
       "\n",
       "    .dataframe tbody tr th {\n",
       "        vertical-align: top;\n",
       "    }\n",
       "\n",
       "    .dataframe thead th {\n",
       "        text-align: right;\n",
       "    }\n",
       "</style>\n",
       "<table border=\"1\" class=\"dataframe\">\n",
       "  <thead>\n",
       "    <tr style=\"text-align: right;\">\n",
       "      <th></th>\n",
       "      <th>CreditScore</th>\n",
       "      <th>Age</th>\n",
       "      <th>Tenure</th>\n",
       "      <th>Balance</th>\n",
       "      <th>NumOfProducts</th>\n",
       "      <th>HasCrCard</th>\n",
       "      <th>IsActiveMember</th>\n",
       "      <th>EstimatedSalary</th>\n",
       "      <th>Exited</th>\n",
       "      <th>Geography_Germany</th>\n",
       "      <th>Geography_Spain</th>\n",
       "      <th>Gender_Male</th>\n",
       "    </tr>\n",
       "  </thead>\n",
       "  <tbody>\n",
       "    <tr>\n",
       "      <th>0</th>\n",
       "      <td>619</td>\n",
       "      <td>42</td>\n",
       "      <td>2</td>\n",
       "      <td>0.00</td>\n",
       "      <td>1</td>\n",
       "      <td>1</td>\n",
       "      <td>1</td>\n",
       "      <td>101348.88</td>\n",
       "      <td>1</td>\n",
       "      <td>0</td>\n",
       "      <td>0</td>\n",
       "      <td>0</td>\n",
       "    </tr>\n",
       "    <tr>\n",
       "      <th>1</th>\n",
       "      <td>608</td>\n",
       "      <td>41</td>\n",
       "      <td>1</td>\n",
       "      <td>83807.86</td>\n",
       "      <td>1</td>\n",
       "      <td>0</td>\n",
       "      <td>1</td>\n",
       "      <td>112542.58</td>\n",
       "      <td>0</td>\n",
       "      <td>0</td>\n",
       "      <td>1</td>\n",
       "      <td>0</td>\n",
       "    </tr>\n",
       "    <tr>\n",
       "      <th>2</th>\n",
       "      <td>502</td>\n",
       "      <td>42</td>\n",
       "      <td>8</td>\n",
       "      <td>159660.80</td>\n",
       "      <td>3</td>\n",
       "      <td>1</td>\n",
       "      <td>0</td>\n",
       "      <td>113931.57</td>\n",
       "      <td>1</td>\n",
       "      <td>0</td>\n",
       "      <td>0</td>\n",
       "      <td>0</td>\n",
       "    </tr>\n",
       "    <tr>\n",
       "      <th>3</th>\n",
       "      <td>699</td>\n",
       "      <td>39</td>\n",
       "      <td>1</td>\n",
       "      <td>0.00</td>\n",
       "      <td>2</td>\n",
       "      <td>0</td>\n",
       "      <td>0</td>\n",
       "      <td>93826.63</td>\n",
       "      <td>0</td>\n",
       "      <td>0</td>\n",
       "      <td>0</td>\n",
       "      <td>0</td>\n",
       "    </tr>\n",
       "    <tr>\n",
       "      <th>4</th>\n",
       "      <td>850</td>\n",
       "      <td>43</td>\n",
       "      <td>2</td>\n",
       "      <td>125510.82</td>\n",
       "      <td>1</td>\n",
       "      <td>1</td>\n",
       "      <td>1</td>\n",
       "      <td>79084.10</td>\n",
       "      <td>0</td>\n",
       "      <td>0</td>\n",
       "      <td>1</td>\n",
       "      <td>0</td>\n",
       "    </tr>\n",
       "  </tbody>\n",
       "</table>\n",
       "</div>"
      ],
      "text/plain": [
       "   CreditScore  Age  Tenure    Balance  NumOfProducts  HasCrCard  \\\n",
       "0          619   42       2       0.00              1          1   \n",
       "1          608   41       1   83807.86              1          0   \n",
       "2          502   42       8  159660.80              3          1   \n",
       "3          699   39       1       0.00              2          0   \n",
       "4          850   43       2  125510.82              1          1   \n",
       "\n",
       "   IsActiveMember  EstimatedSalary  Exited  Geography_Germany  \\\n",
       "0               1        101348.88       1                  0   \n",
       "1               1        112542.58       0                  0   \n",
       "2               0        113931.57       1                  0   \n",
       "3               0         93826.63       0                  0   \n",
       "4               1         79084.10       0                  0   \n",
       "\n",
       "   Geography_Spain  Gender_Male  \n",
       "0                0            0  \n",
       "1                1            0  \n",
       "2                0            0  \n",
       "3                0            0  \n",
       "4                1            0  "
      ]
     },
     "execution_count": 12,
     "metadata": {},
     "output_type": "execute_result"
    }
   ],
   "source": [
    "df.head()"
   ]
  },
  {
   "cell_type": "code",
   "execution_count": 13,
   "id": "83c35034",
   "metadata": {
    "execution": {
     "iopub.execute_input": "2024-03-31T21:39:01.230818Z",
     "iopub.status.busy": "2024-03-31T21:39:01.230091Z",
     "iopub.status.idle": "2024-03-31T21:39:02.143276Z",
     "shell.execute_reply": "2024-03-31T21:39:02.142536Z",
     "shell.execute_reply.started": "2024-03-31T21:12:02.241244Z"
    },
    "papermill": {
     "duration": 0.970282,
     "end_time": "2024-03-31T21:39:02.143417",
     "exception": false,
     "start_time": "2024-03-31T21:39:01.173135",
     "status": "completed"
    },
    "tags": []
   },
   "outputs": [],
   "source": [
    "X = df.drop(columns=['Exited'])\n",
    "y = df['Exited'].values\n",
    "\n",
    "from sklearn.model_selection import train_test_split\n",
    "X_train,X_test,y_train,y_test = train_test_split(X,y,test_size=0.2,random_state=42)"
   ]
  },
  {
   "cell_type": "code",
   "execution_count": 14,
   "id": "f2802a0c",
   "metadata": {
    "execution": {
     "iopub.execute_input": "2024-03-31T21:39:02.249293Z",
     "iopub.status.busy": "2024-03-31T21:39:02.244246Z",
     "iopub.status.idle": "2024-03-31T21:39:02.252979Z",
     "shell.execute_reply": "2024-03-31T21:39:02.252405Z",
     "shell.execute_reply.started": "2024-03-31T21:12:03.576354Z"
    },
    "papermill": {
     "duration": 0.065578,
     "end_time": "2024-03-31T21:39:02.253114",
     "exception": false,
     "start_time": "2024-03-31T21:39:02.187536",
     "status": "completed"
    },
    "tags": []
   },
   "outputs": [
    {
     "data": {
      "text/html": [
       "<div>\n",
       "<style scoped>\n",
       "    .dataframe tbody tr th:only-of-type {\n",
       "        vertical-align: middle;\n",
       "    }\n",
       "\n",
       "    .dataframe tbody tr th {\n",
       "        vertical-align: top;\n",
       "    }\n",
       "\n",
       "    .dataframe thead th {\n",
       "        text-align: right;\n",
       "    }\n",
       "</style>\n",
       "<table border=\"1\" class=\"dataframe\">\n",
       "  <thead>\n",
       "    <tr style=\"text-align: right;\">\n",
       "      <th></th>\n",
       "      <th>CreditScore</th>\n",
       "      <th>Age</th>\n",
       "      <th>Tenure</th>\n",
       "      <th>Balance</th>\n",
       "      <th>NumOfProducts</th>\n",
       "      <th>HasCrCard</th>\n",
       "      <th>IsActiveMember</th>\n",
       "      <th>EstimatedSalary</th>\n",
       "      <th>Geography_Germany</th>\n",
       "      <th>Geography_Spain</th>\n",
       "      <th>Gender_Male</th>\n",
       "    </tr>\n",
       "  </thead>\n",
       "  <tbody>\n",
       "    <tr>\n",
       "      <th>0</th>\n",
       "      <td>619</td>\n",
       "      <td>42</td>\n",
       "      <td>2</td>\n",
       "      <td>0.00</td>\n",
       "      <td>1</td>\n",
       "      <td>1</td>\n",
       "      <td>1</td>\n",
       "      <td>101348.88</td>\n",
       "      <td>0</td>\n",
       "      <td>0</td>\n",
       "      <td>0</td>\n",
       "    </tr>\n",
       "    <tr>\n",
       "      <th>1</th>\n",
       "      <td>608</td>\n",
       "      <td>41</td>\n",
       "      <td>1</td>\n",
       "      <td>83807.86</td>\n",
       "      <td>1</td>\n",
       "      <td>0</td>\n",
       "      <td>1</td>\n",
       "      <td>112542.58</td>\n",
       "      <td>0</td>\n",
       "      <td>1</td>\n",
       "      <td>0</td>\n",
       "    </tr>\n",
       "    <tr>\n",
       "      <th>2</th>\n",
       "      <td>502</td>\n",
       "      <td>42</td>\n",
       "      <td>8</td>\n",
       "      <td>159660.80</td>\n",
       "      <td>3</td>\n",
       "      <td>1</td>\n",
       "      <td>0</td>\n",
       "      <td>113931.57</td>\n",
       "      <td>0</td>\n",
       "      <td>0</td>\n",
       "      <td>0</td>\n",
       "    </tr>\n",
       "    <tr>\n",
       "      <th>3</th>\n",
       "      <td>699</td>\n",
       "      <td>39</td>\n",
       "      <td>1</td>\n",
       "      <td>0.00</td>\n",
       "      <td>2</td>\n",
       "      <td>0</td>\n",
       "      <td>0</td>\n",
       "      <td>93826.63</td>\n",
       "      <td>0</td>\n",
       "      <td>0</td>\n",
       "      <td>0</td>\n",
       "    </tr>\n",
       "    <tr>\n",
       "      <th>4</th>\n",
       "      <td>850</td>\n",
       "      <td>43</td>\n",
       "      <td>2</td>\n",
       "      <td>125510.82</td>\n",
       "      <td>1</td>\n",
       "      <td>1</td>\n",
       "      <td>1</td>\n",
       "      <td>79084.10</td>\n",
       "      <td>0</td>\n",
       "      <td>1</td>\n",
       "      <td>0</td>\n",
       "    </tr>\n",
       "    <tr>\n",
       "      <th>...</th>\n",
       "      <td>...</td>\n",
       "      <td>...</td>\n",
       "      <td>...</td>\n",
       "      <td>...</td>\n",
       "      <td>...</td>\n",
       "      <td>...</td>\n",
       "      <td>...</td>\n",
       "      <td>...</td>\n",
       "      <td>...</td>\n",
       "      <td>...</td>\n",
       "      <td>...</td>\n",
       "    </tr>\n",
       "    <tr>\n",
       "      <th>9995</th>\n",
       "      <td>771</td>\n",
       "      <td>39</td>\n",
       "      <td>5</td>\n",
       "      <td>0.00</td>\n",
       "      <td>2</td>\n",
       "      <td>1</td>\n",
       "      <td>0</td>\n",
       "      <td>96270.64</td>\n",
       "      <td>0</td>\n",
       "      <td>0</td>\n",
       "      <td>1</td>\n",
       "    </tr>\n",
       "    <tr>\n",
       "      <th>9996</th>\n",
       "      <td>516</td>\n",
       "      <td>35</td>\n",
       "      <td>10</td>\n",
       "      <td>57369.61</td>\n",
       "      <td>1</td>\n",
       "      <td>1</td>\n",
       "      <td>1</td>\n",
       "      <td>101699.77</td>\n",
       "      <td>0</td>\n",
       "      <td>0</td>\n",
       "      <td>1</td>\n",
       "    </tr>\n",
       "    <tr>\n",
       "      <th>9997</th>\n",
       "      <td>709</td>\n",
       "      <td>36</td>\n",
       "      <td>7</td>\n",
       "      <td>0.00</td>\n",
       "      <td>1</td>\n",
       "      <td>0</td>\n",
       "      <td>1</td>\n",
       "      <td>42085.58</td>\n",
       "      <td>0</td>\n",
       "      <td>0</td>\n",
       "      <td>0</td>\n",
       "    </tr>\n",
       "    <tr>\n",
       "      <th>9998</th>\n",
       "      <td>772</td>\n",
       "      <td>42</td>\n",
       "      <td>3</td>\n",
       "      <td>75075.31</td>\n",
       "      <td>2</td>\n",
       "      <td>1</td>\n",
       "      <td>0</td>\n",
       "      <td>92888.52</td>\n",
       "      <td>1</td>\n",
       "      <td>0</td>\n",
       "      <td>1</td>\n",
       "    </tr>\n",
       "    <tr>\n",
       "      <th>9999</th>\n",
       "      <td>792</td>\n",
       "      <td>28</td>\n",
       "      <td>4</td>\n",
       "      <td>130142.79</td>\n",
       "      <td>1</td>\n",
       "      <td>1</td>\n",
       "      <td>0</td>\n",
       "      <td>38190.78</td>\n",
       "      <td>0</td>\n",
       "      <td>0</td>\n",
       "      <td>0</td>\n",
       "    </tr>\n",
       "  </tbody>\n",
       "</table>\n",
       "<p>10000 rows × 11 columns</p>\n",
       "</div>"
      ],
      "text/plain": [
       "      CreditScore  Age  Tenure    Balance  NumOfProducts  HasCrCard  \\\n",
       "0             619   42       2       0.00              1          1   \n",
       "1             608   41       1   83807.86              1          0   \n",
       "2             502   42       8  159660.80              3          1   \n",
       "3             699   39       1       0.00              2          0   \n",
       "4             850   43       2  125510.82              1          1   \n",
       "...           ...  ...     ...        ...            ...        ...   \n",
       "9995          771   39       5       0.00              2          1   \n",
       "9996          516   35      10   57369.61              1          1   \n",
       "9997          709   36       7       0.00              1          0   \n",
       "9998          772   42       3   75075.31              2          1   \n",
       "9999          792   28       4  130142.79              1          1   \n",
       "\n",
       "      IsActiveMember  EstimatedSalary  Geography_Germany  Geography_Spain  \\\n",
       "0                  1        101348.88                  0                0   \n",
       "1                  1        112542.58                  0                1   \n",
       "2                  0        113931.57                  0                0   \n",
       "3                  0         93826.63                  0                0   \n",
       "4                  1         79084.10                  0                1   \n",
       "...              ...              ...                ...              ...   \n",
       "9995               0         96270.64                  0                0   \n",
       "9996               1        101699.77                  0                0   \n",
       "9997               1         42085.58                  0                0   \n",
       "9998               0         92888.52                  1                0   \n",
       "9999               0         38190.78                  0                0   \n",
       "\n",
       "      Gender_Male  \n",
       "0               0  \n",
       "1               0  \n",
       "2               0  \n",
       "3               0  \n",
       "4               0  \n",
       "...           ...  \n",
       "9995            1  \n",
       "9996            1  \n",
       "9997            0  \n",
       "9998            1  \n",
       "9999            0  \n",
       "\n",
       "[10000 rows x 11 columns]"
      ]
     },
     "execution_count": 14,
     "metadata": {},
     "output_type": "execute_result"
    }
   ],
   "source": [
    "X"
   ]
  },
  {
   "cell_type": "code",
   "execution_count": 15,
   "id": "0002e0c7",
   "metadata": {
    "execution": {
     "iopub.execute_input": "2024-03-31T21:39:02.347474Z",
     "iopub.status.busy": "2024-03-31T21:39:02.346846Z",
     "iopub.status.idle": "2024-03-31T21:39:02.351716Z",
     "shell.execute_reply": "2024-03-31T21:39:02.351163Z",
     "shell.execute_reply.started": "2024-03-31T21:12:03.607012Z"
    },
    "papermill": {
     "duration": 0.054432,
     "end_time": "2024-03-31T21:39:02.351845",
     "exception": false,
     "start_time": "2024-03-31T21:39:02.297413",
     "status": "completed"
    },
    "tags": []
   },
   "outputs": [
    {
     "data": {
      "text/plain": [
       "array([1, 0, 1, ..., 1, 1, 0])"
      ]
     },
     "execution_count": 15,
     "metadata": {},
     "output_type": "execute_result"
    }
   ],
   "source": [
    "y"
   ]
  },
  {
   "cell_type": "code",
   "execution_count": 16,
   "id": "72a10a49",
   "metadata": {
    "execution": {
     "iopub.execute_input": "2024-03-31T21:39:02.446112Z",
     "iopub.status.busy": "2024-03-31T21:39:02.445364Z",
     "iopub.status.idle": "2024-03-31T21:39:02.448261Z",
     "shell.execute_reply": "2024-03-31T21:39:02.448803Z",
     "shell.execute_reply.started": "2024-03-31T21:12:03.617309Z"
    },
    "papermill": {
     "duration": 0.051731,
     "end_time": "2024-03-31T21:39:02.448953",
     "exception": false,
     "start_time": "2024-03-31T21:39:02.397222",
     "status": "completed"
    },
    "tags": []
   },
   "outputs": [
    {
     "data": {
      "text/plain": [
       "(8000, 11)"
      ]
     },
     "execution_count": 16,
     "metadata": {},
     "output_type": "execute_result"
    }
   ],
   "source": [
    "X_train.shape"
   ]
  },
  {
   "cell_type": "code",
   "execution_count": 17,
   "id": "45a08410",
   "metadata": {
    "execution": {
     "iopub.execute_input": "2024-03-31T21:39:02.545704Z",
     "iopub.status.busy": "2024-03-31T21:39:02.545016Z",
     "iopub.status.idle": "2024-03-31T21:39:02.547992Z",
     "shell.execute_reply": "2024-03-31T21:39:02.548455Z",
     "shell.execute_reply.started": "2024-03-31T21:12:03.632753Z"
    },
    "papermill": {
     "duration": 0.053588,
     "end_time": "2024-03-31T21:39:02.548625",
     "exception": false,
     "start_time": "2024-03-31T21:39:02.495037",
     "status": "completed"
    },
    "tags": []
   },
   "outputs": [
    {
     "data": {
      "text/plain": [
       "(8000,)"
      ]
     },
     "execution_count": 17,
     "metadata": {},
     "output_type": "execute_result"
    }
   ],
   "source": [
    "y_train.shape"
   ]
  },
  {
   "cell_type": "code",
   "execution_count": 18,
   "id": "09ea6bb2",
   "metadata": {
    "execution": {
     "iopub.execute_input": "2024-03-31T21:39:02.645182Z",
     "iopub.status.busy": "2024-03-31T21:39:02.644368Z",
     "iopub.status.idle": "2024-03-31T21:39:02.648199Z",
     "shell.execute_reply": "2024-03-31T21:39:02.647646Z",
     "shell.execute_reply.started": "2024-03-31T21:12:03.650776Z"
    },
    "papermill": {
     "duration": 0.054173,
     "end_time": "2024-03-31T21:39:02.648328",
     "exception": false,
     "start_time": "2024-03-31T21:39:02.594155",
     "status": "completed"
    },
    "tags": []
   },
   "outputs": [
    {
     "data": {
      "text/plain": [
       "(2000, 11)"
      ]
     },
     "execution_count": 18,
     "metadata": {},
     "output_type": "execute_result"
    }
   ],
   "source": [
    "X_test.shape"
   ]
  },
  {
   "cell_type": "code",
   "execution_count": 19,
   "id": "368348a1",
   "metadata": {
    "execution": {
     "iopub.execute_input": "2024-03-31T21:39:02.747208Z",
     "iopub.status.busy": "2024-03-31T21:39:02.746402Z",
     "iopub.status.idle": "2024-03-31T21:39:02.750122Z",
     "shell.execute_reply": "2024-03-31T21:39:02.749474Z",
     "shell.execute_reply.started": "2024-03-31T21:12:03.669868Z"
    },
    "papermill": {
     "duration": 0.055339,
     "end_time": "2024-03-31T21:39:02.750258",
     "exception": false,
     "start_time": "2024-03-31T21:39:02.694919",
     "status": "completed"
    },
    "tags": []
   },
   "outputs": [
    {
     "data": {
      "text/plain": [
       "(2000,)"
      ]
     },
     "execution_count": 19,
     "metadata": {},
     "output_type": "execute_result"
    }
   ],
   "source": [
    "y_test.shape"
   ]
  },
  {
   "cell_type": "code",
   "execution_count": 20,
   "id": "750a0756",
   "metadata": {
    "execution": {
     "iopub.execute_input": "2024-03-31T21:39:02.850432Z",
     "iopub.status.busy": "2024-03-31T21:39:02.849805Z",
     "iopub.status.idle": "2024-03-31T21:39:02.857881Z",
     "shell.execute_reply": "2024-03-31T21:39:02.857229Z",
     "shell.execute_reply.started": "2024-03-31T21:12:03.684744Z"
    },
    "papermill": {
     "duration": 0.060675,
     "end_time": "2024-03-31T21:39:02.858004",
     "exception": false,
     "start_time": "2024-03-31T21:39:02.797329",
     "status": "completed"
    },
    "tags": []
   },
   "outputs": [],
   "source": [
    "from sklearn.preprocessing import StandardScaler\n",
    "scaler = StandardScaler()\n",
    "\n",
    "X_train_scle = scaler.fit_transform(X_train)\n",
    "X_test_scle = scaler.transform(X_test)"
   ]
  },
  {
   "cell_type": "code",
   "execution_count": 21,
   "id": "ca8ad64a",
   "metadata": {
    "execution": {
     "iopub.execute_input": "2024-03-31T21:39:02.956038Z",
     "iopub.status.busy": "2024-03-31T21:39:02.955216Z",
     "iopub.status.idle": "2024-03-31T21:39:02.958791Z",
     "shell.execute_reply": "2024-03-31T21:39:02.958259Z",
     "shell.execute_reply.started": "2024-03-31T21:12:03.708979Z"
    },
    "papermill": {
     "duration": 0.05399,
     "end_time": "2024-03-31T21:39:02.958914",
     "exception": false,
     "start_time": "2024-03-31T21:39:02.904924",
     "status": "completed"
    },
    "tags": []
   },
   "outputs": [
    {
     "data": {
      "text/plain": [
       "array([[ 0.35649971, -0.6557859 ,  0.34567966, ..., -0.57946723,\n",
       "        -0.57638802,  0.91324755],\n",
       "       [-0.20389777,  0.29493847, -0.3483691 , ...,  1.72572313,\n",
       "        -0.57638802,  0.91324755],\n",
       "       [-0.96147213, -1.41636539, -0.69539349, ..., -0.57946723,\n",
       "         1.73494238,  0.91324755],\n",
       "       ...,\n",
       "       [ 0.86500853, -0.08535128, -1.38944225, ..., -0.57946723,\n",
       "        -0.57638802, -1.09499335],\n",
       "       [ 0.15932282,  0.3900109 ,  1.03972843, ..., -0.57946723,\n",
       "        -0.57638802,  0.91324755],\n",
       "       [ 0.47065475,  1.15059039, -1.38944225, ...,  1.72572313,\n",
       "        -0.57638802,  0.91324755]])"
      ]
     },
     "execution_count": 21,
     "metadata": {},
     "output_type": "execute_result"
    }
   ],
   "source": [
    "X_train_scle"
   ]
  },
  {
   "cell_type": "code",
   "execution_count": 22,
   "id": "d5f86343",
   "metadata": {
    "execution": {
     "iopub.execute_input": "2024-03-31T21:39:03.054737Z",
     "iopub.status.busy": "2024-03-31T21:39:03.054104Z",
     "iopub.status.idle": "2024-03-31T21:39:08.036951Z",
     "shell.execute_reply": "2024-03-31T21:39:08.036379Z",
     "shell.execute_reply.started": "2024-03-31T21:12:03.719996Z"
    },
    "papermill": {
     "duration": 5.032606,
     "end_time": "2024-03-31T21:39:08.037098",
     "exception": false,
     "start_time": "2024-03-31T21:39:03.004492",
     "status": "completed"
    },
    "tags": []
   },
   "outputs": [],
   "source": [
    "import tensorflow\n",
    "from tensorflow import keras\n",
    "from tensorflow.keras import Sequential \n",
    "from tensorflow.keras.layers import Dense"
   ]
  },
  {
   "cell_type": "code",
   "execution_count": 23,
   "id": "3b415f19",
   "metadata": {
    "execution": {
     "iopub.execute_input": "2024-03-31T21:39:08.134788Z",
     "iopub.status.busy": "2024-03-31T21:39:08.134046Z",
     "iopub.status.idle": "2024-03-31T21:39:10.821474Z",
     "shell.execute_reply": "2024-03-31T21:39:10.820804Z",
     "shell.execute_reply.started": "2024-03-31T21:12:11.494437Z"
    },
    "papermill": {
     "duration": 2.737936,
     "end_time": "2024-03-31T21:39:10.821653",
     "exception": false,
     "start_time": "2024-03-31T21:39:08.083717",
     "status": "completed"
    },
    "tags": []
   },
   "outputs": [],
   "source": [
    "model = Sequential()\n",
    "\n",
    "model.add(Dense(11,activation='relu',input_dim=11))\n",
    "model.add(Dense(3,activation='relu'))\n",
    "model.add(Dense(1,activation='sigmoid'))"
   ]
  },
  {
   "cell_type": "code",
   "execution_count": 24,
   "id": "d8a9eb55",
   "metadata": {
    "execution": {
     "iopub.execute_input": "2024-03-31T21:39:10.919024Z",
     "iopub.status.busy": "2024-03-31T21:39:10.918024Z",
     "iopub.status.idle": "2024-03-31T21:39:10.921364Z",
     "shell.execute_reply": "2024-03-31T21:39:10.921901Z",
     "shell.execute_reply.started": "2024-03-31T21:12:11.645632Z"
    },
    "papermill": {
     "duration": 0.054566,
     "end_time": "2024-03-31T21:39:10.922063",
     "exception": false,
     "start_time": "2024-03-31T21:39:10.867497",
     "status": "completed"
    },
    "tags": []
   },
   "outputs": [
    {
     "name": "stdout",
     "output_type": "stream",
     "text": [
      "Model: \"sequential\"\n",
      "_________________________________________________________________\n",
      "Layer (type)                 Output Shape              Param #   \n",
      "=================================================================\n",
      "dense (Dense)                (None, 11)                132       \n",
      "_________________________________________________________________\n",
      "dense_1 (Dense)              (None, 3)                 36        \n",
      "_________________________________________________________________\n",
      "dense_2 (Dense)              (None, 1)                 4         \n",
      "=================================================================\n",
      "Total params: 172\n",
      "Trainable params: 172\n",
      "Non-trainable params: 0\n",
      "_________________________________________________________________\n"
     ]
    }
   ],
   "source": [
    "model.summary()"
   ]
  },
  {
   "cell_type": "code",
   "execution_count": 25,
   "id": "06759311",
   "metadata": {
    "execution": {
     "iopub.execute_input": "2024-03-31T21:39:11.023061Z",
     "iopub.status.busy": "2024-03-31T21:39:11.019378Z",
     "iopub.status.idle": "2024-03-31T21:39:11.028971Z",
     "shell.execute_reply": "2024-03-31T21:39:11.028456Z",
     "shell.execute_reply.started": "2024-03-31T21:12:11.659481Z"
    },
    "papermill": {
     "duration": 0.060829,
     "end_time": "2024-03-31T21:39:11.029096",
     "exception": false,
     "start_time": "2024-03-31T21:39:10.968267",
     "status": "completed"
    },
    "tags": []
   },
   "outputs": [],
   "source": [
    "model.compile(optimizer='Adam',loss='binary_crossentropy',metrics=['accuracy'])"
   ]
  },
  {
   "cell_type": "code",
   "execution_count": 26,
   "id": "58c3b539",
   "metadata": {
    "execution": {
     "iopub.execute_input": "2024-03-31T21:39:11.127450Z",
     "iopub.status.busy": "2024-03-31T21:39:11.126875Z",
     "iopub.status.idle": "2024-03-31T21:39:32.623384Z",
     "shell.execute_reply": "2024-03-31T21:39:32.623894Z",
     "shell.execute_reply.started": "2024-03-31T21:26:40.684068Z"
    },
    "papermill": {
     "duration": 21.548743,
     "end_time": "2024-03-31T21:39:32.624074",
     "exception": false,
     "start_time": "2024-03-31T21:39:11.075331",
     "status": "completed"
    },
    "tags": []
   },
   "outputs": [
    {
     "name": "stdout",
     "output_type": "stream",
     "text": [
      "Epoch 1/50\n",
      "200/200 [==============================] - 2s 3ms/step - loss: 0.6915 - accuracy: 0.6481 - val_loss: 0.6450 - val_accuracy: 0.7962\n",
      "Epoch 2/50\n",
      "200/200 [==============================] - 0s 2ms/step - loss: 0.6251 - accuracy: 0.7931 - val_loss: 0.6038 - val_accuracy: 0.7987\n",
      "Epoch 3/50\n",
      "200/200 [==============================] - 0s 2ms/step - loss: 0.5894 - accuracy: 0.7939 - val_loss: 0.5707 - val_accuracy: 0.8006\n",
      "Epoch 4/50\n",
      "200/200 [==============================] - 0s 2ms/step - loss: 0.5586 - accuracy: 0.8002 - val_loss: 0.5390 - val_accuracy: 0.8181\n",
      "Epoch 5/50\n",
      "200/200 [==============================] - 0s 2ms/step - loss: 0.5296 - accuracy: 0.8134 - val_loss: 0.5120 - val_accuracy: 0.8269\n",
      "Epoch 6/50\n",
      "200/200 [==============================] - 0s 2ms/step - loss: 0.5032 - accuracy: 0.8194 - val_loss: 0.4859 - val_accuracy: 0.8338\n",
      "Epoch 7/50\n",
      "200/200 [==============================] - 0s 2ms/step - loss: 0.4758 - accuracy: 0.8288 - val_loss: 0.4596 - val_accuracy: 0.8462\n",
      "Epoch 8/50\n",
      "200/200 [==============================] - 0s 2ms/step - loss: 0.4495 - accuracy: 0.8455 - val_loss: 0.4392 - val_accuracy: 0.8512\n",
      "Epoch 9/50\n",
      "200/200 [==============================] - 0s 2ms/step - loss: 0.4301 - accuracy: 0.8466 - val_loss: 0.4241 - val_accuracy: 0.8537\n",
      "Epoch 10/50\n",
      "200/200 [==============================] - 0s 2ms/step - loss: 0.4156 - accuracy: 0.8494 - val_loss: 0.4124 - val_accuracy: 0.8512\n",
      "Epoch 11/50\n",
      "200/200 [==============================] - 0s 2ms/step - loss: 0.4045 - accuracy: 0.8494 - val_loss: 0.4028 - val_accuracy: 0.8512\n",
      "Epoch 12/50\n",
      "200/200 [==============================] - 0s 2ms/step - loss: 0.3951 - accuracy: 0.8523 - val_loss: 0.3956 - val_accuracy: 0.8512\n",
      "Epoch 13/50\n",
      "200/200 [==============================] - 0s 2ms/step - loss: 0.3879 - accuracy: 0.8519 - val_loss: 0.3889 - val_accuracy: 0.8537\n",
      "Epoch 14/50\n",
      "200/200 [==============================] - 0s 2ms/step - loss: 0.3812 - accuracy: 0.8544 - val_loss: 0.3827 - val_accuracy: 0.8512\n",
      "Epoch 15/50\n",
      "200/200 [==============================] - 0s 2ms/step - loss: 0.3757 - accuracy: 0.8555 - val_loss: 0.3783 - val_accuracy: 0.8531\n",
      "Epoch 16/50\n",
      "200/200 [==============================] - 0s 2ms/step - loss: 0.3712 - accuracy: 0.8553 - val_loss: 0.3745 - val_accuracy: 0.8525\n",
      "Epoch 17/50\n",
      "200/200 [==============================] - 0s 2ms/step - loss: 0.3670 - accuracy: 0.8578 - val_loss: 0.3706 - val_accuracy: 0.8531\n",
      "Epoch 18/50\n",
      "200/200 [==============================] - 0s 2ms/step - loss: 0.3636 - accuracy: 0.8569 - val_loss: 0.3678 - val_accuracy: 0.8531\n",
      "Epoch 19/50\n",
      "200/200 [==============================] - 0s 2ms/step - loss: 0.3606 - accuracy: 0.8597 - val_loss: 0.3656 - val_accuracy: 0.8550\n",
      "Epoch 20/50\n",
      "200/200 [==============================] - 0s 2ms/step - loss: 0.3583 - accuracy: 0.8570 - val_loss: 0.3633 - val_accuracy: 0.8544\n",
      "Epoch 21/50\n",
      "200/200 [==============================] - 0s 2ms/step - loss: 0.3560 - accuracy: 0.8587 - val_loss: 0.3621 - val_accuracy: 0.8537\n",
      "Epoch 22/50\n",
      "200/200 [==============================] - 0s 2ms/step - loss: 0.3540 - accuracy: 0.8602 - val_loss: 0.3609 - val_accuracy: 0.8550\n",
      "Epoch 23/50\n",
      "200/200 [==============================] - 0s 2ms/step - loss: 0.3524 - accuracy: 0.8591 - val_loss: 0.3592 - val_accuracy: 0.8556\n",
      "Epoch 24/50\n",
      "200/200 [==============================] - 0s 2ms/step - loss: 0.3505 - accuracy: 0.8603 - val_loss: 0.3569 - val_accuracy: 0.8556\n",
      "Epoch 25/50\n",
      "200/200 [==============================] - 0s 2ms/step - loss: 0.3492 - accuracy: 0.8616 - val_loss: 0.3553 - val_accuracy: 0.8575\n",
      "Epoch 26/50\n",
      "200/200 [==============================] - 0s 2ms/step - loss: 0.3478 - accuracy: 0.8622 - val_loss: 0.3548 - val_accuracy: 0.8587\n",
      "Epoch 27/50\n",
      "200/200 [==============================] - 0s 2ms/step - loss: 0.3460 - accuracy: 0.8639 - val_loss: 0.3533 - val_accuracy: 0.8587\n",
      "Epoch 28/50\n",
      "200/200 [==============================] - 0s 2ms/step - loss: 0.3446 - accuracy: 0.8617 - val_loss: 0.3528 - val_accuracy: 0.8600\n",
      "Epoch 29/50\n",
      "200/200 [==============================] - 0s 2ms/step - loss: 0.3435 - accuracy: 0.8619 - val_loss: 0.3517 - val_accuracy: 0.8612\n",
      "Epoch 30/50\n",
      "200/200 [==============================] - 0s 2ms/step - loss: 0.3421 - accuracy: 0.8614 - val_loss: 0.3501 - val_accuracy: 0.8612\n",
      "Epoch 31/50\n",
      "200/200 [==============================] - 0s 2ms/step - loss: 0.3411 - accuracy: 0.8625 - val_loss: 0.3497 - val_accuracy: 0.8612\n",
      "Epoch 32/50\n",
      "200/200 [==============================] - 0s 2ms/step - loss: 0.3404 - accuracy: 0.8636 - val_loss: 0.3489 - val_accuracy: 0.8587\n",
      "Epoch 33/50\n",
      "200/200 [==============================] - 0s 2ms/step - loss: 0.3396 - accuracy: 0.8612 - val_loss: 0.3490 - val_accuracy: 0.8606\n",
      "Epoch 34/50\n",
      "200/200 [==============================] - 0s 2ms/step - loss: 0.3389 - accuracy: 0.8622 - val_loss: 0.3484 - val_accuracy: 0.8600\n",
      "Epoch 35/50\n",
      "200/200 [==============================] - 0s 2ms/step - loss: 0.3384 - accuracy: 0.8637 - val_loss: 0.3478 - val_accuracy: 0.8594\n",
      "Epoch 36/50\n",
      "200/200 [==============================] - 0s 2ms/step - loss: 0.3372 - accuracy: 0.8637 - val_loss: 0.3487 - val_accuracy: 0.8606\n",
      "Epoch 37/50\n",
      "200/200 [==============================] - 0s 2ms/step - loss: 0.3369 - accuracy: 0.8648 - val_loss: 0.3484 - val_accuracy: 0.8581\n",
      "Epoch 38/50\n",
      "200/200 [==============================] - 0s 2ms/step - loss: 0.3362 - accuracy: 0.8641 - val_loss: 0.3487 - val_accuracy: 0.8569\n",
      "Epoch 39/50\n",
      "200/200 [==============================] - 0s 2ms/step - loss: 0.3359 - accuracy: 0.8631 - val_loss: 0.3466 - val_accuracy: 0.8581\n",
      "Epoch 40/50\n",
      "200/200 [==============================] - 0s 2ms/step - loss: 0.3353 - accuracy: 0.8648 - val_loss: 0.3472 - val_accuracy: 0.8606\n",
      "Epoch 41/50\n",
      "200/200 [==============================] - 0s 2ms/step - loss: 0.3349 - accuracy: 0.8628 - val_loss: 0.3466 - val_accuracy: 0.8606\n",
      "Epoch 42/50\n",
      "200/200 [==============================] - 0s 2ms/step - loss: 0.3342 - accuracy: 0.8644 - val_loss: 0.3466 - val_accuracy: 0.8594\n",
      "Epoch 43/50\n",
      "200/200 [==============================] - 0s 2ms/step - loss: 0.3337 - accuracy: 0.8639 - val_loss: 0.3460 - val_accuracy: 0.8587\n",
      "Epoch 44/50\n",
      "200/200 [==============================] - 0s 2ms/step - loss: 0.3330 - accuracy: 0.8645 - val_loss: 0.3460 - val_accuracy: 0.8619\n",
      "Epoch 45/50\n",
      "200/200 [==============================] - 0s 2ms/step - loss: 0.3333 - accuracy: 0.8631 - val_loss: 0.3461 - val_accuracy: 0.8600\n",
      "Epoch 46/50\n",
      "200/200 [==============================] - 0s 2ms/step - loss: 0.3323 - accuracy: 0.8639 - val_loss: 0.3457 - val_accuracy: 0.8587\n",
      "Epoch 47/50\n",
      "200/200 [==============================] - 0s 2ms/step - loss: 0.3325 - accuracy: 0.8653 - val_loss: 0.3452 - val_accuracy: 0.8587\n",
      "Epoch 48/50\n",
      "200/200 [==============================] - 0s 2ms/step - loss: 0.3317 - accuracy: 0.8658 - val_loss: 0.3458 - val_accuracy: 0.8594\n",
      "Epoch 49/50\n",
      "200/200 [==============================] - 0s 2ms/step - loss: 0.3312 - accuracy: 0.8659 - val_loss: 0.3458 - val_accuracy: 0.8562\n",
      "Epoch 50/50\n",
      "200/200 [==============================] - 0s 2ms/step - loss: 0.3313 - accuracy: 0.8631 - val_loss: 0.3456 - val_accuracy: 0.8581\n"
     ]
    }
   ],
   "source": [
    "history=model.fit(X_train_scle,y_train, epochs=50,validation_split=0.2 )"
   ]
  },
  {
   "cell_type": "code",
   "execution_count": 27,
   "id": "a72e786c",
   "metadata": {
    "execution": {
     "iopub.execute_input": "2024-03-31T21:39:33.043310Z",
     "iopub.status.busy": "2024-03-31T21:39:33.042577Z",
     "iopub.status.idle": "2024-03-31T21:39:33.050128Z",
     "shell.execute_reply": "2024-03-31T21:39:33.049642Z",
     "shell.execute_reply.started": "2024-03-31T21:12:39.316167Z"
    },
    "papermill": {
     "duration": 0.219204,
     "end_time": "2024-03-31T21:39:33.050256",
     "exception": false,
     "start_time": "2024-03-31T21:39:32.831052",
     "status": "completed"
    },
    "tags": []
   },
   "outputs": [
    {
     "data": {
      "text/plain": [
       "[array([[ 0.0174295 , -0.08145645,  0.04618982, -0.10979959, -0.5470348 ,\n",
       "         -0.23062794, -0.00673344, -0.2990252 ,  0.16730763,  0.27008882,\n",
       "         -0.31490493],\n",
       "        [-0.7654676 ,  0.04961259, -0.63107294,  0.74565065,  0.35701278,\n",
       "          0.26423374, -0.85453266,  0.6908801 ,  0.01324322, -0.05192211,\n",
       "         -0.81235164],\n",
       "        [-0.42091745, -0.01309024,  0.07579023, -0.01864029, -0.09573029,\n",
       "         -0.373931  , -0.10970704,  0.60390717, -0.09946019,  0.04393467,\n",
       "         -0.101621  ],\n",
       "        [-0.09974849,  0.75462455,  0.46108878,  0.0552244 ,  0.50522673,\n",
       "         -0.60375947, -0.03903612, -0.42048532, -0.09688883,  0.12241345,\n",
       "         -0.5148824 ],\n",
       "        [ 0.63060856, -0.42844084,  0.32974282,  0.9362791 ,  1.1761911 ,\n",
       "         -0.2346014 , -0.06434961, -0.25535715, -0.42706627,  1.0615721 ,\n",
       "          0.43325922],\n",
       "        [-0.13379762, -0.0687426 ,  0.389858  , -0.00969821, -0.15415595,\n",
       "         -0.35269788, -0.2639261 ,  0.06869631,  0.05782174,  0.12127501,\n",
       "          0.1361396 ],\n",
       "        [-0.24759172, -0.17993946,  0.20778501,  0.4016889 , -0.15351096,\n",
       "         -0.30128545, -0.37552613,  0.8399462 , -0.5488573 , -0.6400271 ,\n",
       "         -0.08594922],\n",
       "        [ 0.26185292,  0.02158426,  0.27572072, -0.01380829,  0.00879117,\n",
       "         -0.10697304, -0.07051603,  0.14560778,  0.14622273,  0.12048248,\n",
       "         -0.06606441],\n",
       "        [ 0.54408026,  0.7125714 , -0.12887384, -0.1250827 , -0.02618713,\n",
       "          0.10304216, -0.21605225, -0.37310088, -0.14004676,  0.35378435,\n",
       "          0.5663623 ],\n",
       "        [ 0.09009104, -0.18323019,  0.31802553,  0.01692893,  0.07013723,\n",
       "         -0.21079546, -0.22976114, -0.11873052,  0.16853064,  0.2326882 ,\n",
       "          0.57754254],\n",
       "        [ 0.20419197, -0.06322373,  0.20173728,  0.02758537, -0.34022057,\n",
       "          0.34703055,  0.0199575 , -0.17355902, -0.22643054, -0.14888456,\n",
       "         -0.15511698]], dtype=float32),\n",
       " array([ 0.41724306, -0.05514094,  0.38073406, -0.29725185,  0.20468795,\n",
       "         0.37249467,  0.6518075 ,  0.19280528,  0.31978428, -0.22688717,\n",
       "         0.01355429], dtype=float32)]"
      ]
     },
     "execution_count": 27,
     "metadata": {},
     "output_type": "execute_result"
    }
   ],
   "source": [
    "model.layers[0].get_weights()"
   ]
  },
  {
   "cell_type": "code",
   "execution_count": 28,
   "id": "acc3dcd4",
   "metadata": {
    "execution": {
     "iopub.execute_input": "2024-03-31T21:39:33.464862Z",
     "iopub.status.busy": "2024-03-31T21:39:33.464237Z",
     "iopub.status.idle": "2024-03-31T21:39:33.470167Z",
     "shell.execute_reply": "2024-03-31T21:39:33.469624Z",
     "shell.execute_reply.started": "2024-03-31T21:12:39.331561Z"
    },
    "papermill": {
     "duration": 0.214288,
     "end_time": "2024-03-31T21:39:33.470289",
     "exception": false,
     "start_time": "2024-03-31T21:39:33.256001",
     "status": "completed"
    },
    "tags": []
   },
   "outputs": [
    {
     "data": {
      "text/plain": [
       "[array([[-0.57216597, -0.652403  ,  0.086844  ],\n",
       "        [ 0.9402816 ,  0.09913808, -0.67370266],\n",
       "        [-0.12712812, -0.80598396, -0.2203675 ],\n",
       "        [-1.0689247 , -1.1727194 ,  0.9121851 ],\n",
       "        [-0.9534532 ,  0.62018794,  0.837731  ],\n",
       "        [ 0.3500419 ,  0.58332855, -0.44938573],\n",
       "        [-0.42387956, -0.8372065 , -0.6871626 ],\n",
       "        [ 0.0049147 ,  0.31689376, -0.81124616],\n",
       "        [ 0.8413439 ,  0.6059185 , -0.5264843 ],\n",
       "        [-0.70526284, -0.05743315,  1.1029595 ],\n",
       "        [ 0.7360108 , -1.3646064 , -0.2830089 ]], dtype=float32),\n",
       " array([ 0.18790092,  0.3312456 , -0.4092592 ], dtype=float32)]"
      ]
     },
     "execution_count": 28,
     "metadata": {},
     "output_type": "execute_result"
    }
   ],
   "source": [
    "model.layers[1].get_weights()"
   ]
  },
  {
   "cell_type": "code",
   "execution_count": 29,
   "id": "b4815ee4",
   "metadata": {
    "execution": {
     "iopub.execute_input": "2024-03-31T21:39:33.888622Z",
     "iopub.status.busy": "2024-03-31T21:39:33.887972Z",
     "iopub.status.idle": "2024-03-31T21:39:33.890663Z",
     "shell.execute_reply": "2024-03-31T21:39:33.890055Z",
     "shell.execute_reply.started": "2024-03-31T21:27:21.702259Z"
    },
    "papermill": {
     "duration": 0.213112,
     "end_time": "2024-03-31T21:39:33.890790",
     "exception": false,
     "start_time": "2024-03-31T21:39:33.677678",
     "status": "completed"
    },
    "tags": []
   },
   "outputs": [],
   "source": [
    "# history = model.fit(X_train_scle,y_train,epochs=100,validation_split=0.2)"
   ]
  },
  {
   "cell_type": "code",
   "execution_count": 30,
   "id": "85e24743",
   "metadata": {
    "execution": {
     "iopub.execute_input": "2024-03-31T21:39:34.306507Z",
     "iopub.status.busy": "2024-03-31T21:39:34.305671Z",
     "iopub.status.idle": "2024-03-31T21:39:34.451285Z",
     "shell.execute_reply": "2024-03-31T21:39:34.451774Z",
     "shell.execute_reply.started": "2024-03-31T21:12:39.359689Z"
    },
    "papermill": {
     "duration": 0.355057,
     "end_time": "2024-03-31T21:39:34.451950",
     "exception": false,
     "start_time": "2024-03-31T21:39:34.096893",
     "status": "completed"
    },
    "tags": []
   },
   "outputs": [],
   "source": [
    "y_log = model.predict(X_test_scle)"
   ]
  },
  {
   "cell_type": "code",
   "execution_count": 31,
   "id": "9494bad4",
   "metadata": {
    "execution": {
     "iopub.execute_input": "2024-03-31T21:39:34.867372Z",
     "iopub.status.busy": "2024-03-31T21:39:34.866773Z",
     "iopub.status.idle": "2024-03-31T21:39:34.869346Z",
     "shell.execute_reply": "2024-03-31T21:39:34.868882Z",
     "shell.execute_reply.started": "2024-03-31T21:12:39.597807Z"
    },
    "papermill": {
     "duration": 0.2103,
     "end_time": "2024-03-31T21:39:34.869470",
     "exception": false,
     "start_time": "2024-03-31T21:39:34.659170",
     "status": "completed"
    },
    "tags": []
   },
   "outputs": [],
   "source": [
    "y_pred=np.where(y_log>0.5,1,0) #if grater than 0.5 then 1 or else 0"
   ]
  },
  {
   "cell_type": "code",
   "execution_count": 32,
   "id": "8ab64db9",
   "metadata": {
    "execution": {
     "iopub.execute_input": "2024-03-31T21:39:35.284105Z",
     "iopub.status.busy": "2024-03-31T21:39:35.283433Z",
     "iopub.status.idle": "2024-03-31T21:39:35.285669Z",
     "shell.execute_reply": "2024-03-31T21:39:35.286180Z",
     "shell.execute_reply.started": "2024-03-31T21:12:39.605442Z"
    },
    "papermill": {
     "duration": 0.212379,
     "end_time": "2024-03-31T21:39:35.286329",
     "exception": false,
     "start_time": "2024-03-31T21:39:35.073950",
     "status": "completed"
    },
    "tags": []
   },
   "outputs": [],
   "source": [
    "# y_pred = y_pred.argmax(axis=-1)"
   ]
  },
  {
   "cell_type": "code",
   "execution_count": 33,
   "id": "4f683d56",
   "metadata": {
    "execution": {
     "iopub.execute_input": "2024-03-31T21:39:35.703019Z",
     "iopub.status.busy": "2024-03-31T21:39:35.702113Z",
     "iopub.status.idle": "2024-03-31T21:39:35.706771Z",
     "shell.execute_reply": "2024-03-31T21:39:35.707214Z",
     "shell.execute_reply.started": "2024-03-31T21:12:39.618274Z"
    },
    "papermill": {
     "duration": 0.215754,
     "end_time": "2024-03-31T21:39:35.707367",
     "exception": false,
     "start_time": "2024-03-31T21:39:35.491613",
     "status": "completed"
    },
    "tags": []
   },
   "outputs": [
    {
     "data": {
      "text/plain": [
       "0.857"
      ]
     },
     "execution_count": 33,
     "metadata": {},
     "output_type": "execute_result"
    }
   ],
   "source": [
    "from sklearn.metrics import accuracy_score\n",
    "accuracy_score(y_test,y_pred)"
   ]
  },
  {
   "cell_type": "code",
   "execution_count": 34,
   "id": "565e211e",
   "metadata": {
    "execution": {
     "iopub.execute_input": "2024-03-31T21:39:36.129583Z",
     "iopub.status.busy": "2024-03-31T21:39:36.128758Z",
     "iopub.status.idle": "2024-03-31T21:39:36.132131Z",
     "shell.execute_reply": "2024-03-31T21:39:36.132685Z",
     "shell.execute_reply.started": "2024-03-31T21:16:34.855274Z"
    },
    "papermill": {
     "duration": 0.22005,
     "end_time": "2024-03-31T21:39:36.132841",
     "exception": false,
     "start_time": "2024-03-31T21:39:35.912791",
     "status": "completed"
    },
    "tags": []
   },
   "outputs": [
    {
     "data": {
      "text/plain": [
       "{'loss': [0.6915032863616943,\n",
       "  0.6250864267349243,\n",
       "  0.5894261002540588,\n",
       "  0.5585976243019104,\n",
       "  0.529582142829895,\n",
       "  0.503176212310791,\n",
       "  0.4758104085922241,\n",
       "  0.4495176374912262,\n",
       "  0.4301481246948242,\n",
       "  0.4156232476234436,\n",
       "  0.4045044183731079,\n",
       "  0.3950563371181488,\n",
       "  0.3878670930862427,\n",
       "  0.38124191761016846,\n",
       "  0.37568023800849915,\n",
       "  0.3711855411529541,\n",
       "  0.36702120304107666,\n",
       "  0.36363521218299866,\n",
       "  0.36061421036720276,\n",
       "  0.3583129942417145,\n",
       "  0.3559710681438446,\n",
       "  0.35398373007774353,\n",
       "  0.35242125391960144,\n",
       "  0.35050490498542786,\n",
       "  0.3492491543292999,\n",
       "  0.3478301167488098,\n",
       "  0.3459785580635071,\n",
       "  0.3445923924446106,\n",
       "  0.34353014826774597,\n",
       "  0.34212857484817505,\n",
       "  0.3411456346511841,\n",
       "  0.3403581380844116,\n",
       "  0.3396329879760742,\n",
       "  0.3388935327529907,\n",
       "  0.3383805453777313,\n",
       "  0.3372315466403961,\n",
       "  0.3369060158729553,\n",
       "  0.3361643850803375,\n",
       "  0.3359493315219879,\n",
       "  0.33534714579582214,\n",
       "  0.33487507700920105,\n",
       "  0.334184467792511,\n",
       "  0.3337271809577942,\n",
       "  0.3329961895942688,\n",
       "  0.333252876996994,\n",
       "  0.3322540521621704,\n",
       "  0.332468181848526,\n",
       "  0.3317018151283264,\n",
       "  0.33122631907463074,\n",
       "  0.331333190202713],\n",
       " 'accuracy': [0.6481249928474426,\n",
       "  0.7931249737739563,\n",
       "  0.7939062714576721,\n",
       "  0.8001562356948853,\n",
       "  0.8134375214576721,\n",
       "  0.8193749785423279,\n",
       "  0.8287500143051147,\n",
       "  0.8454687595367432,\n",
       "  0.8465625047683716,\n",
       "  0.8493750095367432,\n",
       "  0.8493750095367432,\n",
       "  0.852343738079071,\n",
       "  0.8518750071525574,\n",
       "  0.8543750047683716,\n",
       "  0.85546875,\n",
       "  0.8553125262260437,\n",
       "  0.8578125238418579,\n",
       "  0.8568750023841858,\n",
       "  0.8596875071525574,\n",
       "  0.8570312261581421,\n",
       "  0.8587499856948853,\n",
       "  0.860156238079071,\n",
       "  0.8590624928474426,\n",
       "  0.8603125214576721,\n",
       "  0.8615624904632568,\n",
       "  0.8621875047683716,\n",
       "  0.8639062643051147,\n",
       "  0.8617187738418579,\n",
       "  0.8618749976158142,\n",
       "  0.8614062666893005,\n",
       "  0.862500011920929,\n",
       "  0.8635937571525574,\n",
       "  0.8612499833106995,\n",
       "  0.8621875047683716,\n",
       "  0.8637499809265137,\n",
       "  0.8637499809265137,\n",
       "  0.8648437261581421,\n",
       "  0.864062488079071,\n",
       "  0.8631250262260437,\n",
       "  0.8648437261581421,\n",
       "  0.8628125190734863,\n",
       "  0.8643749952316284,\n",
       "  0.8639062643051147,\n",
       "  0.8645312786102295,\n",
       "  0.8631250262260437,\n",
       "  0.8639062643051147,\n",
       "  0.8653125166893005,\n",
       "  0.8657812476158142,\n",
       "  0.8659374713897705,\n",
       "  0.8631250262260437],\n",
       " 'val_loss': [0.6450138688087463,\n",
       "  0.6038448810577393,\n",
       "  0.5707286596298218,\n",
       "  0.5390185713768005,\n",
       "  0.5119614601135254,\n",
       "  0.48591065406799316,\n",
       "  0.45962169766426086,\n",
       "  0.43919503688812256,\n",
       "  0.424091100692749,\n",
       "  0.41239026188850403,\n",
       "  0.40282171964645386,\n",
       "  0.3955540359020233,\n",
       "  0.38891565799713135,\n",
       "  0.38267308473587036,\n",
       "  0.3783409893512726,\n",
       "  0.3745218515396118,\n",
       "  0.37057629227638245,\n",
       "  0.36778393387794495,\n",
       "  0.36561450362205505,\n",
       "  0.3633002042770386,\n",
       "  0.36208778619766235,\n",
       "  0.36094704270362854,\n",
       "  0.35921332240104675,\n",
       "  0.35693496465682983,\n",
       "  0.35531845688819885,\n",
       "  0.3547726571559906,\n",
       "  0.35329243540763855,\n",
       "  0.35276126861572266,\n",
       "  0.351663738489151,\n",
       "  0.3500983417034149,\n",
       "  0.34967246651649475,\n",
       "  0.3489454686641693,\n",
       "  0.348998099565506,\n",
       "  0.3483890891075134,\n",
       "  0.34778186678886414,\n",
       "  0.3486635684967041,\n",
       "  0.34838762879371643,\n",
       "  0.3487253487110138,\n",
       "  0.3466038405895233,\n",
       "  0.3472420573234558,\n",
       "  0.3466067910194397,\n",
       "  0.3466426730155945,\n",
       "  0.34595784544944763,\n",
       "  0.34600821137428284,\n",
       "  0.3460642993450165,\n",
       "  0.34565040469169617,\n",
       "  0.34521248936653137,\n",
       "  0.34577059745788574,\n",
       "  0.34580662846565247,\n",
       "  0.34563881158828735],\n",
       " 'val_accuracy': [0.7962499856948853,\n",
       "  0.7987499833106995,\n",
       "  0.8006250262260437,\n",
       "  0.8181250095367432,\n",
       "  0.8268749713897705,\n",
       "  0.8337500095367432,\n",
       "  0.8462499976158142,\n",
       "  0.8512499928474426,\n",
       "  0.8537499904632568,\n",
       "  0.8512499928474426,\n",
       "  0.8512499928474426,\n",
       "  0.8512499928474426,\n",
       "  0.8537499904632568,\n",
       "  0.8512499928474426,\n",
       "  0.8531249761581421,\n",
       "  0.8525000214576721,\n",
       "  0.8531249761581421,\n",
       "  0.8531249761581421,\n",
       "  0.8550000190734863,\n",
       "  0.8543750047683716,\n",
       "  0.8537499904632568,\n",
       "  0.8550000190734863,\n",
       "  0.8556249737739563,\n",
       "  0.8556249737739563,\n",
       "  0.8575000166893005,\n",
       "  0.8587499856948853,\n",
       "  0.8587499856948853,\n",
       "  0.8600000143051147,\n",
       "  0.8612499833106995,\n",
       "  0.8612499833106995,\n",
       "  0.8612499833106995,\n",
       "  0.8587499856948853,\n",
       "  0.8606250286102295,\n",
       "  0.8600000143051147,\n",
       "  0.859375,\n",
       "  0.8606250286102295,\n",
       "  0.8581249713897705,\n",
       "  0.8568750023841858,\n",
       "  0.8581249713897705,\n",
       "  0.8606250286102295,\n",
       "  0.8606250286102295,\n",
       "  0.859375,\n",
       "  0.8587499856948853,\n",
       "  0.8618749976158142,\n",
       "  0.8600000143051147,\n",
       "  0.8587499856948853,\n",
       "  0.8587499856948853,\n",
       "  0.859375,\n",
       "  0.856249988079071,\n",
       "  0.8581249713897705]}"
      ]
     },
     "execution_count": 34,
     "metadata": {},
     "output_type": "execute_result"
    }
   ],
   "source": [
    "history.history"
   ]
  },
  {
   "cell_type": "code",
   "execution_count": 35,
   "id": "9d31f778",
   "metadata": {
    "execution": {
     "iopub.execute_input": "2024-03-31T21:39:36.553096Z",
     "iopub.status.busy": "2024-03-31T21:39:36.552204Z",
     "iopub.status.idle": "2024-03-31T21:39:36.790701Z",
     "shell.execute_reply": "2024-03-31T21:39:36.791189Z",
     "shell.execute_reply.started": "2024-03-31T21:27:21.709196Z"
    },
    "papermill": {
     "duration": 0.452015,
     "end_time": "2024-03-31T21:39:36.791350",
     "exception": false,
     "start_time": "2024-03-31T21:39:36.339335",
     "status": "completed"
    },
    "tags": []
   },
   "outputs": [
    {
     "data": {
      "text/plain": [
       "[<matplotlib.lines.Line2D at 0x7aac1840f150>]"
      ]
     },
     "execution_count": 35,
     "metadata": {},
     "output_type": "execute_result"
    },
    {
     "data": {
      "image/png": "[encoded data removed]",
      "text/plain": [
       "<Figure size 432x288 with 1 Axes>"
      ]
     },
     "metadata": {
      "needs_background": "light"
     },
     "output_type": "display_data"
    }
   ],
   "source": [
    "import matplotlib.pyplot as plt\n",
    "\n",
    "plt.plot(history.history['loss'])\n",
    "plt.plot(history.history['val_loss'])"
   ]
  },
  {
   "cell_type": "code",
   "execution_count": 36,
   "id": "446bdb65",
   "metadata": {
    "execution": {
     "iopub.execute_input": "2024-03-31T21:39:37.233103Z",
     "iopub.status.busy": "2024-03-31T21:39:37.224120Z",
     "iopub.status.idle": "2024-03-31T21:39:37.418027Z",
     "shell.execute_reply": "2024-03-31T21:39:37.417343Z",
     "shell.execute_reply.started": "2024-03-31T21:27:21.960893Z"
    },
    "papermill": {
     "duration": 0.418877,
     "end_time": "2024-03-31T21:39:37.418184",
     "exception": false,
     "start_time": "2024-03-31T21:39:36.999307",
     "status": "completed"
    },
    "tags": []
   },
   "outputs": [
    {
     "data": {
      "text/plain": [
       "[<matplotlib.lines.Line2D at 0x7aac12f46750>]"
      ]
     },
     "execution_count": 36,
     "metadata": {},
     "output_type": "execute_result"
    },
    {
     "data": {
      "image/png": "[encoded data removed]",
      "text/plain": [
       "<Figure size 432x288 with 1 Axes>"
      ]
     },
     "metadata": {
      "needs_background": "light"
     },
     "output_type": "display_data"
    }
   ],
   "source": [
    "plt.plot(history.history['accuracy'])\n",
    "plt.plot(history.history['val_accuracy'])"
   ]
  }
 ],
 "metadata": {
  "kaggle": {
   "accelerator": "none",
   "dataSources": [
    {
     "datasetId": 869651,
     "sourceId": 1481789,
     "sourceType": "datasetVersion"
    }
   ],
   "dockerImageVersionId": 30170,
   "isGpuEnabled": false,
   "isInternetEnabled": false,
   "language": "python",
   "sourceType": "notebook"
  },
  "kernelspec": {
   "display_name": "Python 3",
   "language": "python",
   "name": "python3"
  },
  "language_info": {
   "codemirror_mode": {
    "name": "ipython",
    "version": 3
   },
   "file_extension": ".py",
   "mimetype": "text/x-python",
   "name": "python",
   "nbconvert_exporter": "python",
   "pygments_lexer": "ipython3",
   "version": "3.7.12"
  },
  "papermill": {
   "default_parameters": {},
   "duration": 49.510155,
   "end_time": "2024-03-31T21:39:40.429404",
   "environment_variables": {},
   "exception": null,
   "input_path": "__notebook__.ipynb",
   "output_path": "__notebook__.ipynb",
   "parameters": {},
   "start_time": "2024-03-31T21:38:50.919249",
   "version": "2.3.3"
  }
 },
 "nbformat": 4,
 "nbformat_minor": 5
}
